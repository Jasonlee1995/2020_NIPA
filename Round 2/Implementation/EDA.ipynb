{
 "cells": [
  {
   "cell_type": "code",
   "execution_count": null,
   "metadata": {},
   "outputs": [],
   "source": [
    "import csv, collections, os\n",
    "import pandas as pd"
   ]
  },
  {
   "cell_type": "code",
   "execution_count": null,
   "metadata": {},
   "outputs": [],
   "source": [
    "train_dir = '../../data/.train/.task148/data/train/images/'\n",
    "train_csv = '../../data/.train/.task148/data/train/train.csv'\n",
    "train_ccsv = '../../data/.train/.task148/data/train/train_custom.csv'"
   ]
  },
  {
   "cell_type": "code",
   "execution_count": null,
   "metadata": {},
   "outputs": [],
   "source": [
    "test_dir = '../../data/.train/.task148/data/test/images/'\n",
    "test_csv = '../../data/.train/.task148/data/test/test.csv'"
   ]
  },
  {
   "cell_type": "code",
   "execution_count": null,
   "metadata": {},
   "outputs": [],
   "source": [
    "features = []\n",
    "with open(train_csv, 'r') as csvfile:\n",
    "    for i, line in enumerate(csv.reader(csvfile)):\n",
    "        if i == 0:\n",
    "            for j in range(len(line)):\n",
    "                print(j, line[j])\n",
    "                features.append(line[j])"
   ]
  },
  {
   "cell_type": "code",
   "execution_count": null,
   "metadata": {},
   "outputs": [],
   "source": [
    "features_dic = {}\n",
    "idxs = [29, 31, 32, 36, 44, 50]\n",
    "\n",
    "with open(train_csv, 'r') as csvfile:\n",
    "    for i, line in enumerate(csv.reader(csvfile)):\n",
    "        if i != 0:\n",
    "            for idx in idxs:\n",
    "                if idx not in features_dic: features_dic[idx] = set()\n",
    "                features_dic[idx].add(line[idx])\n",
    "                \n",
    "for feature in features_dic:\n",
    "    print(feature, len(sorted(features_dic[feature])), sorted(features_dic[feature]))"
   ]
  },
  {
   "cell_type": "code",
   "execution_count": null,
   "metadata": {},
   "outputs": [],
   "source": [
    "temp_dic = {}\n",
    "label_5 = {}\n",
    "label_3 = {}\n",
    "\n",
    "with open(train_csv, 'r') as csvfile:\n",
    "    for i, line in enumerate(csv.reader(csvfile)):\n",
    "        if i != 0:\n",
    "            target = line[67]\n",
    "            if ((line[29] == '0') and (line[31] == '0') and (line[32] == '0') and (line[36] != '') \n",
    "                and (line[44] in ['경량철골구조', '벽돌구조', '일반목구조', '일반철골구조', '철근콘크리트구조']) \n",
    "                and (line[50] in ['(철근)콘크리트', '기와', '기타지붕'])):\n",
    "            \n",
    "                if target not in label_5: label_5[target] = 0\n",
    "                label_5[target] += 1\n",
    "            elif i != 0:\n",
    "                target = line[67]\n",
    "                if target not in label_3: label_3[target] = 0\n",
    "                label_3[target] += 1"
   ]
  },
  {
   "cell_type": "code",
   "execution_count": null,
   "metadata": {},
   "outputs": [],
   "source": [
    "print(collections.Counter(label_3))\n",
    "print(collections.Counter(label_5))"
   ]
  },
  {
   "cell_type": "code",
   "execution_count": null,
   "metadata": {},
   "outputs": [],
   "source": [
    "with open(test_csv, 'r') as csvfile:\n",
    "    for i, line in enumerate(csv.reader(csvfile)):\n",
    "        if i != 0:\n",
    "            for idx in idxs:\n",
    "                if line[idx] not in features_dic[idx]:\n",
    "                    print(idx, line[idx])"
   ]
  },
  {
   "cell_type": "code",
   "execution_count": null,
   "metadata": {},
   "outputs": [],
   "source": [
    "distributions = {}\n",
    "\n",
    "with open(train_csv, 'r') as csvfile:\n",
    "    for i, line in enumerate(csv.reader(csvfile)):\n",
    "        if i != 0:\n",
    "            ID = tuple([line[idx] for idx in idxs])\n",
    "            label = line[67]\n",
    "            if ID not in distributions: distributions[ID] = {}\n",
    "            if label not in distributions[ID]: distributions[ID][label] = 0\n",
    "            distributions[ID][label] += 1\n",
    "            \n",
    "for feature in sorted(distributions):\n",
    "    print(feature, distributions[feature])"
   ]
  }
 ],
 "metadata": {
  "kernelspec": {
   "display_name": "Python 3",
   "language": "python",
   "name": "python3"
  },
  "language_info": {
   "codemirror_mode": {
    "name": "ipython",
    "version": 3
   },
   "file_extension": ".py",
   "mimetype": "text/x-python",
   "name": "python",
   "nbconvert_exporter": "python",
   "pygments_lexer": "ipython3",
   "version": "3.8.3"
  }
 },
 "nbformat": 4,
 "nbformat_minor": 4
}
