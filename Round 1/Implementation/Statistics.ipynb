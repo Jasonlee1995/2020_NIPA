{
 "cells": [
  {
   "cell_type": "code",
   "execution_count": 1,
   "metadata": {},
   "outputs": [],
   "source": [
    "import csv\n",
    "\n",
    "from PIL import Image\n",
    "\n",
    "from torch.utils.data import Dataset, DataLoader\n",
    "import torchvision.transforms as transforms"
   ]
  },
  {
   "cell_type": "code",
   "execution_count": 2,
   "metadata": {},
   "outputs": [],
   "source": [
    "class NIPA_Statistics(Dataset):\n",
    "    def __init__(self):\n",
    "        self.train_img_dir = './train/'\n",
    "        self.train_label_dir = './train/train.tsv'\n",
    "        self.test_img_dir = './test/'\n",
    "        self.test_label_dir = './test/test.tsv'\n",
    "        \n",
    "        self.imgs = []\n",
    "        with open(self.train_label_dir, 'r') as tsvfile:\n",
    "            for line in csv.reader(tsvfile, delimiter='\\t'):\n",
    "                img, *_ = line\n",
    "                img = self.train_img_dir + img\n",
    "                self.imgs.append(img)\n",
    "        with open(self.test_label_dir, 'r') as tsvfile:\n",
    "            for line in csv.reader(tsvfile, delimiter='\\t'):\n",
    "                img, *_ = line\n",
    "                img = self.test_img_dir + img\n",
    "                self.imgs.append(img)\n",
    "\n",
    "    def __getitem__(self, idx):\n",
    "        img_path = self.imgs[idx]\n",
    "        img = Image.open(img_path).convert('RGB')\n",
    "        return transforms.ToTensor()(img)\n",
    "\n",
    "    def __len__(self):\n",
    "        return len(self.imgs)"
   ]
  },
  {
   "cell_type": "code",
   "execution_count": 3,
   "metadata": {},
   "outputs": [
    {
     "name": "stdout",
     "output_type": "stream",
     "text": [
      "tensor([0.4633, 0.4887, 0.4060]) tensor([0.1824, 0.1601, 0.1958])\n"
     ]
    }
   ],
   "source": [
    "dataset = NIPA_Statistics()\n",
    "loader = DataLoader(dataset, batch_size=64, shuffle=False)\n",
    "\n",
    "mean = 0.\n",
    "std = 0.\n",
    "nb_samples = 0.\n",
    "for data in loader:\n",
    "    batch_samples = data.size(0)\n",
    "    data = data.view(batch_samples, data.size(1), -1)\n",
    "    mean += data.mean(2).sum(0)\n",
    "    std += data.std(2).sum(0)\n",
    "    nb_samples += batch_samples\n",
    "\n",
    "mean /= nb_samples\n",
    "std /= nb_samples\n",
    "print(mean, std)"
   ]
  }
 ],
 "metadata": {
  "kernelspec": {
   "display_name": "Python 3",
   "language": "python",
   "name": "python3"
  },
  "language_info": {
   "codemirror_mode": {
    "name": "ipython",
    "version": 3
   },
   "file_extension": ".py",
   "mimetype": "text/x-python",
   "name": "python",
   "nbconvert_exporter": "python",
   "pygments_lexer": "ipython3",
   "version": "3.6.9"
  }
 },
 "nbformat": 4,
 "nbformat_minor": 2
}
