{
 "cells": [
  {
   "cell_type": "code",
   "execution_count": null,
   "metadata": {},
   "outputs": [],
   "source": [
    "from dataset import *\n",
    "from train import *\n",
    "\n",
    "import csv\n",
    "\n",
    "import torch\n",
    "import torch.nn as nn\n",
    "import torchvision\n",
    "import torchvision.models as models\n",
    "import torchvision.transforms as transforms"
   ]
  },
  {
   "cell_type": "code",
   "execution_count": null,
   "metadata": {},
   "outputs": [],
   "source": [
    "test_dir = '../../data/.train/.task148/data/test/images/'\n",
    "test_csv = '../../data/.train/.task148/data/test/test.csv'"
   ]
  },
  {
   "cell_type": "code",
   "execution_count": null,
   "metadata": {},
   "outputs": [],
   "source": [
    "distributions = {}\n",
    "labels = ['10_콘크리트외벽', '20_조적외벽', '30_판넬외벽', '40_유리외벽', '50_기타외벽']\n",
    "idxs = {29: ['0', '1', '2'], 31: ['0', '1'], 32: ['0', '1'], 36: ['', '부속건축물', '주건축물'], \n",
    "        44: ['', ' ', '강파이프구조', '경량철골구조', '공업화박판강구조(PEB)', '기타강구조', '기타구조', '기타조적구조', '기타철골철근콘크리트구조', '기타콘크리트구조', '목구조', '벽돌구조', '블록구조', '석구조', '시멘트블럭조', '일반목구조', '일반철골구조', '조립식판넬조', '조적구조', '철골구조', '철골철근콘크리트구조', '철골철근콘크리트합성구조', '철골콘크리트구조', '철근콘크리트구조', '콘크리트구조', '통나무구조', '트러스구조', '프리케스트콘크리트구조'], \n",
    "        50: ['', ' ', '(철근)콘크리트', '기와', '기타지붕', '슬레이트']}\n",
    "\n",
    "\n",
    "labels = ['10_콘크리트외벽', '20_조적외벽', '30_판넬외벽', '40_유리외벽', '50_기타외벽']\n",
    "test = []\n",
    "\n",
    "with open(test_csv, 'r') as csvfile:\n",
    "    for i, line in enumerate(csv.reader(csvfile)):\n",
    "        if i != 0:\n",
    "            ID = line[0]\n",
    "            usage_list = []\n",
    "            for idx in idxs:\n",
    "                usage = [0]*len(idxs[idx])\n",
    "                usage[idxs[idx].index(line[idx])] = 1\n",
    "                usage_list += usage\n",
    "            \n",
    "            test.append((ID, tuple(usage_list)))"
   ]
  },
  {
   "cell_type": "code",
   "execution_count": null,
   "metadata": {},
   "outputs": [],
   "source": [
    "transform = transforms.Compose([\n",
    "    transforms.Resize((256, 256)),\n",
    "    transforms.CenterCrop(224),\n",
    "    transforms.RandomHorizontalFlip(),\n",
    "    transforms.ToTensor(),\n",
    "    transforms.Normalize(mean=[0.5231, 0.5493, 0.5485], std=[0.2502, 0.2544, 0.2786])])"
   ]
  },
  {
   "cell_type": "code",
   "execution_count": null,
   "metadata": {},
   "outputs": [],
   "source": [
    "test_dataset = Test_148(infos=test, transform=transform)\n",
    "\n",
    "test_loader = torch.utils.data.DataLoader(test_dataset, batch_size=32, shuffle=False)"
   ]
  },
  {
   "cell_type": "code",
   "execution_count": null,
   "metadata": {},
   "outputs": [],
   "source": [
    "img_features = models.resnet18()\n",
    "img_features.fc = nn.Linear(512, len(labels))\n",
    "\n",
    "meta_features = nn.Linear(len(usage_list), len(labels))\n",
    "classifier = nn.Linear(2*len(labels), len(labels))"
   ]
  },
  {
   "cell_type": "code",
   "execution_count": null,
   "metadata": {},
   "outputs": [],
   "source": [
    "img_features.load_state_dict(torch.load('./new_2_159_img.pt'))\n",
    "meta_features.load_state_dict(torch.load('./new_2_159_meta.pt'))\n",
    "classifier.load_state_dict(torch.load('./new_2_159_classifier.pt'))"
   ]
  },
  {
   "cell_type": "code",
   "execution_count": null,
   "metadata": {},
   "outputs": [],
   "source": [
    "img_features.eval()\n",
    "meta_features.eval()\n",
    "classifier.eval()"
   ]
  },
  {
   "cell_type": "code",
   "execution_count": null,
   "metadata": {
    "scrolled": true
   },
   "outputs": [],
   "source": [
    "answers = []\n",
    "\n",
    "with torch.no_grad():\n",
    "    for i, (X, M) in enumerate(test_loader):\n",
    "        img_output = img_features(X)\n",
    "        meta_output = meta_features(M)\n",
    "        output = classifier(torch.cat((img_output, meta_output), 1))\n",
    "        output = torch.argmax(output, 1)\n",
    "        answers += output.tolist()"
   ]
  },
  {
   "cell_type": "code",
   "execution_count": null,
   "metadata": {},
   "outputs": [],
   "source": [
    "with open('./prediction.csv', 'a') as csv_file:\n",
    "    csv_writer = csv.writer(csv_file)\n",
    "    csv_writer.writerow(['ID', 'Target'])\n",
    "    for i in range(len(answers)):\n",
    "        ID = test[i][0]\n",
    "        answer = answers[i]\n",
    "        csv_writer.writerow([ID, labels[answer]])"
   ]
  }
 ],
 "metadata": {
  "kernelspec": {
   "display_name": "Python 3",
   "language": "python",
   "name": "python3"
  },
  "language_info": {
   "codemirror_mode": {
    "name": "ipython",
    "version": 3
   },
   "file_extension": ".py",
   "mimetype": "text/x-python",
   "name": "python",
   "nbconvert_exporter": "python",
   "pygments_lexer": "ipython3",
   "version": "3.8.6"
  }
 },
 "nbformat": 4,
 "nbformat_minor": 4
}
