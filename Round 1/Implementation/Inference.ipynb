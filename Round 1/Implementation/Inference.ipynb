{
 "cells": [
  {
   "cell_type": "code",
   "execution_count": 1,
   "metadata": {},
   "outputs": [],
   "source": [
    "from dataset import *\n",
    "\n",
    "import csv\n",
    "\n",
    "import torch\n",
    "import torch.nn as nn\n",
    "import torchvision.models as models\n",
    "import torchvision.transforms as transforms"
   ]
  },
  {
   "cell_type": "code",
   "execution_count": 2,
   "metadata": {},
   "outputs": [
    {
     "data": {
      "text/plain": [
       "<All keys matched successfully>"
      ]
     },
     "execution_count": 2,
     "metadata": {},
     "output_type": "execute_result"
    }
   ],
   "source": [
    "model_ = models.resnet18(pretrained=False)\n",
    "model_.fc = nn.Linear(512, 20)\n",
    "model_.load_state_dict(torch.load('./best_single.pt'))"
   ]
  },
  {
   "cell_type": "code",
   "execution_count": 3,
   "metadata": {},
   "outputs": [],
   "source": [
    "val_transform = transforms.Compose([\n",
    "    transforms.Resize(256),\n",
    "    transforms.CenterCrop(224),\n",
    "    transforms.RandomHorizontalFlip(),\n",
    "    transforms.ToTensor(),\n",
    "    transforms.Normalize(mean=[0.4633, 0.4887, 0.4060], std=[0.1824, 0.1601, 0.1958])])\n",
    "\n",
    "val_dataset = NIPA_Dataset(data_type='val', transform=val_transform)\n",
    "val_loader = torch.utils.data.DataLoader(val_dataset, batch_size=32, shuffle=False)"
   ]
  },
  {
   "cell_type": "code",
   "execution_count": 4,
   "metadata": {
    "scrolled": true
   },
   "outputs": [],
   "source": [
    "labels = []\n",
    "\n",
    "model_.eval()\n",
    "\n",
    "# Test\n",
    "with torch.no_grad():\n",
    "    for i, (X, y) in enumerate(val_loader):\n",
    "        output = model_(X)\n",
    "        label = torch.argmax(output, dim=1)\n",
    "        labels += label.tolist()"
   ]
  },
  {
   "cell_type": "code",
   "execution_count": 5,
   "metadata": {},
   "outputs": [],
   "source": [
    "label_dic = {0:'3_5', 1:'3_20', 2:'4_2', 3:'4_7', 4:'4_11', 5:'5_8', 6:'7_1', 7:'7_20', 8:'8_6', 9:'8_9', 10:'10_20',\n",
    "             11:'11_14', 12:'13_1', 13:'13_6', 14:'13_9', 15:'13_15', 16:'13_16', 17:'13_17', 18:'13_18', 19:'13_20'}\n",
    "\n",
    "with open('./result.tsv', 'a') as tsv_file:\n",
    "    tsv_writer = csv.writer(tsv_file, delimiter='\\t')\n",
    "    for i, label in enumerate(labels):\n",
    "        raw_label = label_dic[label]\n",
    "        p_label, d_label = raw_label.split('_')\n",
    "        tsv_writer.writerow([str(i)+'.jpg', p_label, d_label])"
   ]
  }
 ],
 "metadata": {
  "kernelspec": {
   "display_name": "Python 3",
   "language": "python",
   "name": "python3"
  },
  "language_info": {
   "codemirror_mode": {
    "name": "ipython",
    "version": 3
   },
   "file_extension": ".py",
   "mimetype": "text/x-python",
   "name": "python",
   "nbconvert_exporter": "python",
   "pygments_lexer": "ipython3",
   "version": "3.8.3"
  }
 },
 "nbformat": 4,
 "nbformat_minor": 2
}
