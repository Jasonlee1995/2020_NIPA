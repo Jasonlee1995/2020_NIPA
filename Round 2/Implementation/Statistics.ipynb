{
 "cells": [
  {
   "cell_type": "code",
   "execution_count": null,
   "metadata": {},
   "outputs": [],
   "source": [
    "import csv\n",
    "\n",
    "from PIL import Image, ImageFile\n",
    "\n",
    "from torch.utils.data import Dataset, DataLoader\n",
    "import torchvision.transforms as transforms\n",
    "\n",
    "ImageFile.LOAD_TRUNCATED_IMAGES = True"
   ]
  },
  {
   "cell_type": "code",
   "execution_count": null,
   "metadata": {},
   "outputs": [],
   "source": [
    "class Statistics_148(Dataset):\n",
    "    def __init__(self):\n",
    "        self.train_dir = '../../data/.train/.task148/data/train/images/'\n",
    "        self.train_csv = '../../data/.train/.task148/data/train/train.csv'\n",
    "        self.test_dir = '../../data/.train/.task148/data/test/images/'\n",
    "        self.test_csv = '../../data/.train/.task148/data/test/test.csv'\n",
    "        \n",
    "        self.imgs = []\n",
    "        with open(self.train_csv, 'r') as csvfile:\n",
    "            for i, line in enumerate(csv.reader(csvfile)):\n",
    "                if i != 0:\n",
    "                    img, *_ = line\n",
    "                    img = self.train_dir + img + '.png'\n",
    "                    self.imgs.append(img)\n",
    "        with open(self.test_csv, 'r') as csvfile:\n",
    "            for i, line in enumerate(csv.reader(csvfile)):\n",
    "                if i != 0:\n",
    "                    img, *_ = line\n",
    "                    img = self.test_dir + img + '.png'\n",
    "                    self.imgs.append(img)\n",
    "\n",
    "    def __getitem__(self, idx):\n",
    "        img_path = self.imgs[idx]\n",
    "        img = Image.open(img_path).convert('RGB')\n",
    "        return transforms.Compose([transforms.Resize((256, 256)), transforms.ToTensor()])(img)\n",
    "\n",
    "    def __len__(self):\n",
    "        return len(self.imgs)"
   ]
  },
  {
   "cell_type": "code",
   "execution_count": null,
   "metadata": {},
   "outputs": [],
   "source": [
    "dataset = Statistics_148()\n",
    "loader = DataLoader(dataset, batch_size=64, shuffle=False)\n",
    "\n",
    "mean = 0.\n",
    "std = 0.\n",
    "nb_samples = 0.\n",
    "for data in loader:\n",
    "    batch_samples = data.size(0)\n",
    "    data = data.view(batch_samples, data.size(1), -1)\n",
    "    mean += data.mean(2).sum(0)\n",
    "    std += data.std(2).sum(0)\n",
    "    nb_samples += batch_samples\n",
    "\n",
    "mean /= nb_samples\n",
    "std /= nb_samples\n",
    "print(mean, std)"
   ]
  }
 ],
 "metadata": {
  "kernelspec": {
   "display_name": "Python 3",
   "language": "python",
   "name": "python3"
  },
  "language_info": {
   "codemirror_mode": {
    "name": "ipython",
    "version": 3
   },
   "file_extension": ".py",
   "mimetype": "text/x-python",
   "name": "python",
   "nbconvert_exporter": "python",
   "pygments_lexer": "ipython3",
   "version": "3.8.3"
  }
 },
 "nbformat": 4,
 "nbformat_minor": 4
}
